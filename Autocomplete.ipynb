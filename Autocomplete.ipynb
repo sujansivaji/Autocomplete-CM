{
  "nbformat": 4,
  "nbformat_minor": 0,
  "metadata": {
    "colab": {
      "name": "Autocomplete.ipynb",
      "provenance": []
    },
    "kernelspec": {
      "name": "python3",
      "display_name": "Python 3"
    },
    "language_info": {
      "name": "python"
    }
  },
  "cells": [
    {
      "cell_type": "markdown",
      "source": [
        ""
      ],
      "metadata": {
        "id": "kZjxF0273urm"
      }
    },
    {
      "cell_type": "code",
      "source": [
        "import numpy as np\n",
        "from nltk.tokenize import RegexpTokenizer\n",
        "from keras.models import Sequential, load_model\n",
        "from keras.layers import LSTM\n",
        "from keras.layers.core import Dense, Activation\n",
        "from tensorflow.keras.optimizers import RMSprop\n",
        "import matplotlib.pyplot as plt\n",
        "import pickle\n",
        "import heapq\n",
        "import string\n",
        "from nltk.corpus import stopwords"
      ],
      "metadata": {
        "id": "luophSGHm6xe"
      },
      "execution_count": 1,
      "outputs": []
    },
    {
      "cell_type": "code",
      "source": [
        "##Download dataset\n",
        "import requests\n",
        "path = \"https://www.gutenberg.org/files/1661/1661-0.txt\"\n",
        "r = requests.get(path, allow_redirects=True)\n",
        "open('1661-0.txt', 'wb').write(r.content)\n",
        "#print('corpus length:', len(text))\n",
        "text = open(\"/content/1661-0.txt\").read().lower()"
      ],
      "metadata": {
        "id": "4ctMxTXXnP20"
      },
      "execution_count": 4,
      "outputs": []
    },
    {
      "cell_type": "code",
      "source": [
        "print(\"Length of dataset:\",len(text))"
      ],
      "metadata": {
        "colab": {
          "base_uri": "https://localhost:8080/"
        },
        "id": "yzOB0o2g9hte",
        "outputId": "c7a64544-6b39-4089-d656-47901abb4468"
      },
      "execution_count": 5,
      "outputs": [
        {
          "output_type": "stream",
          "name": "stdout",
          "text": [
            "Length of dataset: 581533\n"
          ]
        }
      ]
    },
    {
      "cell_type": "code",
      "source": [
        "tokenizer = RegexpTokenizer(r'\\w+')\n",
        "words = tokenizer.tokenize(text)"
      ],
      "metadata": {
        "id": "qoD4BYFwnUcT"
      },
      "execution_count": 6,
      "outputs": []
    },
    {
      "cell_type": "code",
      "source": [
        "unique_words = np.unique(words)\n",
        "unique_word_index = dict((c, i) for i, c in enumerate(unique_words))"
      ],
      "metadata": {
        "id": "u7S6in2RnZZq"
      },
      "execution_count": 7,
      "outputs": []
    },
    {
      "cell_type": "code",
      "source": [
        "unique_words"
      ],
      "metadata": {
        "colab": {
          "base_uri": "https://localhost:8080/"
        },
        "id": "kFpqG7DcnnGl",
        "outputId": "0b035553-0d91-4184-f61d-532e17da9e70"
      },
      "execution_count": 8,
      "outputs": [
        {
          "output_type": "execute_result",
          "data": {
            "text/plain": [
              "array(['000', '1', '10', ..., 'zest', 'zigzag', 'œuvre'], dtype='<U18')"
            ]
          },
          "metadata": {},
          "execution_count": 8
        }
      ]
    },
    {
      "cell_type": "code",
      "source": [
        "WORD_LENGTH = 5\n",
        "prev_words = []\n",
        "next_words = []\n",
        "for i in range(len(words) - WORD_LENGTH):\n",
        "    prev_words.append(words[i:i + WORD_LENGTH])\n",
        "    next_words.append(words[i + WORD_LENGTH])\n",
        "print(prev_words[0])\n",
        "print(next_words[0])"
      ],
      "metadata": {
        "colab": {
          "base_uri": "https://localhost:8080/"
        },
        "id": "K0b7PY6QnpPN",
        "outputId": "9e5b89a7-4c0a-475d-8f13-159a77e00d18"
      },
      "execution_count": 9,
      "outputs": [
        {
          "output_type": "stream",
          "name": "stdout",
          "text": [
            "['the', 'project', 'gutenberg', 'ebook', 'of']\n",
            "the\n"
          ]
        }
      ]
    },
    {
      "cell_type": "code",
      "source": [
        "X = np.zeros((len(prev_words), WORD_LENGTH, len(unique_words)), dtype=bool)\n",
        "Y = np.zeros((len(next_words), len(unique_words)), dtype=bool)\n",
        "for i, each_words in enumerate(prev_words):\n",
        "    for j, each_word in enumerate(each_words):\n",
        "        X[i, j, unique_word_index[each_word]] = 1\n",
        "    Y[i, unique_word_index[next_words[i]]] = 1"
      ],
      "metadata": {
        "id": "abyBJqFVnuKm"
      },
      "execution_count": 10,
      "outputs": []
    },
    {
      "cell_type": "code",
      "source": [
        "unique_words = np.unique(words)\n",
        "unique_word_index = dict((c, i) for i, c in enumerate(unique_words))"
      ],
      "metadata": {
        "id": "s9EYv2EZn0_H"
      },
      "execution_count": 11,
      "outputs": []
    },
    {
      "cell_type": "code",
      "source": [
        "WORD_LENGTH = 5\n",
        "prev_words = []\n",
        "next_words = []\n",
        "for i in range(len(words) - WORD_LENGTH):\n",
        "    prev_words.append(words[i:i + WORD_LENGTH])\n",
        "    next_words.append(words[i + WORD_LENGTH])\n",
        "print(prev_words[0])\n",
        "print(next_words[0])"
      ],
      "metadata": {
        "colab": {
          "base_uri": "https://localhost:8080/"
        },
        "id": "Lhg9iiVEpRKT",
        "outputId": "bdf0a5de-4427-4a1a-8ad5-26bac47cb334"
      },
      "execution_count": 12,
      "outputs": [
        {
          "output_type": "stream",
          "name": "stdout",
          "text": [
            "['the', 'project', 'gutenberg', 'ebook', 'of']\n",
            "the\n"
          ]
        }
      ]
    },
    {
      "cell_type": "markdown",
      "source": [
        "## Model"
      ],
      "metadata": {
        "id": "ztYi9k9t0cLM"
      }
    },
    {
      "cell_type": "code",
      "source": [
        "model = Sequential()\n",
        "model.add(LSTM(128, input_shape=(WORD_LENGTH, len(unique_words))))\n",
        "model.add(Dense(len(unique_words)))\n",
        "model.add(Activation('softmax'))"
      ],
      "metadata": {
        "id": "Hj-3qYeYpUTI"
      },
      "execution_count": 13,
      "outputs": []
    },
    {
      "cell_type": "markdown",
      "source": [
        "## Model Training:"
      ],
      "metadata": {
        "id": "vkPiWyGG0Z0j"
      }
    },
    {
      "cell_type": "code",
      "source": [
        "optimizer = RMSprop(lr=0.01)\n",
        "model.compile(loss='categorical_crossentropy', optimizer=optimizer, metrics=['accuracy'])\n",
        "history = model.fit(X, Y, validation_split=0.05, batch_size=28, epochs=5, shuffle=True).history"
      ],
      "metadata": {
        "colab": {
          "base_uri": "https://localhost:8080/"
        },
        "id": "ESRjXr3Kpcjh",
        "outputId": "8689deaf-b0c3-41fb-c61a-3c1055793dc8"
      },
      "execution_count": 16,
      "outputs": [
        {
          "output_type": "stream",
          "name": "stderr",
          "text": [
            "/usr/local/lib/python3.7/dist-packages/keras/optimizer_v2/rmsprop.py:130: UserWarning: The `lr` argument is deprecated, use `learning_rate` instead.\n",
            "  super(RMSprop, self).__init__(name, **kwargs)\n"
          ]
        },
        {
          "output_type": "stream",
          "name": "stdout",
          "text": [
            "Epoch 1/5\n",
            "3704/3704 [==============================] - 538s 144ms/step - loss: 6.8020 - accuracy: 0.1369 - val_loss: 9.3723 - val_accuracy: 0.0700\n",
            "Epoch 2/5\n",
            "3704/3704 [==============================] - 530s 143ms/step - loss: 6.4204 - accuracy: 0.1629 - val_loss: 9.4102 - val_accuracy: 0.0815\n",
            "Epoch 3/5\n",
            "3704/3704 [==============================] - 537s 145ms/step - loss: 6.0206 - accuracy: 0.1956 - val_loss: 9.7274 - val_accuracy: 0.0663\n",
            "Epoch 4/5\n",
            "3704/3704 [==============================] - 536s 145ms/step - loss: 5.6183 - accuracy: 0.2329 - val_loss: 9.8944 - val_accuracy: 0.0736\n",
            "Epoch 5/5\n",
            "3704/3704 [==============================] - 543s 147ms/step - loss: 5.2324 - accuracy: 0.2730 - val_loss: 10.2546 - val_accuracy: 0.0828\n"
          ]
        }
      ]
    },
    {
      "cell_type": "code",
      "source": [
        "model.save('Autocomplete.h5')\n",
        "pickle.dump(history, open(\"history.pickle\", \"wb\"))"
      ],
      "metadata": {
        "id": "C-0-179b2YQn"
      },
      "execution_count": 17,
      "outputs": []
    },
    {
      "cell_type": "code",
      "source": [
        "plt.plot(history['loss'])\n",
        "plt.plot(history['val_loss'])\n",
        "plt.title('model loss')\n",
        "plt.ylabel('accuracy')\n",
        "plt.xlabel('epoch')\n",
        "plt.legend(['train', 'test'], loc='upper left');"
      ],
      "metadata": {
        "colab": {
          "base_uri": "https://localhost:8080/",
          "height": 295
        },
        "id": "05tCkhbipfHV",
        "outputId": "fe9c9d0f-80e4-4c98-a1f3-e3f842dd4cfd"
      },
      "execution_count": 18,
      "outputs": [
        {
          "output_type": "display_data",
          "data": {
            "image/png": "[encoded data removed]",
            "text/plain": [
              "<Figure size 432x288 with 1 Axes>"
            ]
          },
          "metadata": {
            "needs_background": "light"
          }
        }
      ]
    },
    {
      "cell_type": "markdown",
      "source": [
        "Incresasing the number of epochs will help to reduce Validation loss."
      ],
      "metadata": {
        "id": "janoTwuA3u6S"
      }
    },
    {
      "cell_type": "code",
      "source": [
        "def prepare_input(text):\n",
        "    x = np.zeros((1, WORD_LENGTH, len(unique_words)))\n",
        "    for t, word in enumerate(text.split()):\n",
        "        print(word)\n",
        "        x[0, t, unique_word_index[word]] = 1\n",
        "    return x\n",
        "def sample(preds, top_n=3):\n",
        "    preds = np.asarray(preds).astype('float64')\n",
        "    preds = np.log(preds)\n",
        "    exp_preds = np.exp(preds)\n",
        "    preds = exp_preds / np.sum(exp_preds)\n",
        "\n",
        "    return heapq.nlargest(top_n, range(len(preds)), preds.take)    \n",
        "\n",
        "def predict_completions(text, n=3):\n",
        "    if text == \"\":\n",
        "        return(\"0\")\n",
        "    x = prepare_input(text)\n",
        "    preds = model.predict(x, verbose=0)[0]\n",
        "    next_indices = sample(preds, n)\n",
        "    return [unique_words[idx] for idx in next_indices]    "
      ],
      "metadata": {
        "id": "8uG_jtct3i2P"
      },
      "execution_count": 20,
      "outputs": []
    },
    {
      "cell_type": "markdown",
      "source": [
        "## Prediction:"
      ],
      "metadata": {
        "id": "aKY4-tX76E8v"
      }
    },
    {
      "cell_type": "code",
      "source": [
        "print(\"Inference:\")\n",
        "question =  \"Good\"\n",
        "print(\"correct sentence: \",question)\n",
        "seq = \" \".join(tokenizer.tokenize(question.lower())[0:5])\n",
        "print(\"Sequence: \",seq)\n",
        "print(\"Next possible words: \", predict_completions(seq, 5))"
      ],
      "metadata": {
        "colab": {
          "base_uri": "https://localhost:8080/"
        },
        "id": "czMDTj9D4RKi",
        "outputId": "b7ccb46c-bbd2-4872-dea7-77b702e36a7a"
      },
      "execution_count": 39,
      "outputs": [
        {
          "output_type": "stream",
          "name": "stdout",
          "text": [
            "Inference:\n",
            "correct sentence:  Good\n",
            "Sequence:  good\n",
            "good\n",
            "Next possible words:  ['night', 'and', 'left', 'made', 'money']\n"
          ]
        }
      ]
    },
    {
      "cell_type": "code",
      "source": [
        "print(\"Inference:\")\n",
        "question =  \"Its Good to see\"\n",
        "print(\"correct sentence: \",question)\n",
        "seq = \" \".join(tokenizer.tokenize(question.lower())[0:5])\n",
        "print(\"Sequence: \",seq)\n",
        "print(\"Next possible words: \", predict_completions(seq, 5))"
      ],
      "metadata": {
        "colab": {
          "base_uri": "https://localhost:8080/"
        },
        "id": "h0KRT_F74XbX",
        "outputId": "a9a6681b-191e-4bd5-dc34-d5fd86b81dff"
      },
      "execution_count": 40,
      "outputs": [
        {
          "output_type": "stream",
          "name": "stdout",
          "text": [
            "Inference:\n",
            "correct sentence:  Its Good to see\n",
            "Sequence:  its good to see\n",
            "its\n",
            "good\n",
            "to\n",
            "see\n",
            "Next possible words:  ['holmes', 'him', 'so', 'the', 'she']\n"
          ]
        }
      ]
    },
    {
      "cell_type": "markdown",
      "source": [
        "## Conclusion:"
      ],
      "metadata": {
        "id": "TdN4SyNy6WRu"
      }
    },
    {
      "cell_type": "markdown",
      "source": [
        "To increase the accuracy, the number epochs need to be incresed further to get apt results."
      ],
      "metadata": {
        "id": "aKvNFGkS6Y1K"
      }
    }
  ]
}